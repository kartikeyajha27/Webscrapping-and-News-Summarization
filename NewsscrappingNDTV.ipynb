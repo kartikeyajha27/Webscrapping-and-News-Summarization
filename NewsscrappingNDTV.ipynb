{
 "cells": [
  {
   "cell_type": "markdown",
   "id": "d9b580cc-aa1a-4ef4-9ff3-833df50e0a19",
   "metadata": {},
   "source": [
    "# Convert NDTV news text into Summary using Gemini AI"
   ]
  },
  {
   "cell_type": "code",
   "execution_count": null,
   "id": "3d397690-ad13-40b1-ab2a-62dcf17ccc72",
   "metadata": {
    "scrolled": true
   },
   "outputs": [],
   "source": [
    "# time taking\n",
    "!virtualenv test_env1"
   ]
  },
  {
   "cell_type": "code",
   "execution_count": null,
   "id": "cbfba57c-69b7-4531-b06f-929cc3ca6aeb",
   "metadata": {
    "scrolled": true
   },
   "outputs": [],
   "source": [
    "# time taking\n",
    "!.\\test_env1\\Scripts\\activate"
   ]
  },
  {
   "cell_type": "code",
   "execution_count": null,
   "id": "93ac2d6d-c427-4aaa-9f4d-aa316bff7d8e",
   "metadata": {},
   "outputs": [],
   "source": [
    "# importing libraries\n",
    "from bs4 import BeautifulSoup # for scrapping  information from the web\n",
    "import requests # for making the requests on web\n",
    "import os # for implementing genai\n",
    "import google.generativeai as genai #for gemini\n",
    "from dotenv import load_dotenv"
   ]
  },
  {
   "cell_type": "code",
   "execution_count": null,
   "id": "f7568827-722c-41bf-8590-a1fdc1572d14",
   "metadata": {},
   "outputs": [],
   "source": [
    "load_dotenv()"
   ]
  },
  {
   "cell_type": "code",
   "execution_count": null,
   "id": "99861541-314a-43b6-9170-7c3f00dc7970",
   "metadata": {},
   "outputs": [],
   "source": [
    "# feeding URL\n",
    "url = input(\"Enter URL : \")\n",
    "# url = \"https://www.ndtv.com/india-news/kolkata-doctors-rape-murder-probe-to-be-transferred-to-cbi-high-court-6327984#pfrom=home-ndtv_topscroll\""
   ]
  },
  {
   "cell_type": "code",
   "execution_count": null,
   "id": "ee5e1054-33f5-4647-99cf-c98758c7de30",
   "metadata": {},
   "outputs": [],
   "source": [
    "#scraping links from the website\n",
    "page_to_scrape = requests.get(url) #This loads the URL into page_to_scrape\n",
    "\n",
    "file =  open(\"website_in_textformat.txt\",\"w\",encoding=\"utf-8\")\n",
    "file.write(page_to_scrape.text)\n",
    "file.close()\n",
    "soup = BeautifulSoup(page_to_scrape.text,\"html.parser\")"
   ]
  },
  {
   "cell_type": "code",
   "execution_count": null,
   "id": "8e50f106-f077-434a-b02e-0041b35f9965",
   "metadata": {},
   "outputs": [],
   "source": [
    "# selecting the data from website to scrape\n",
    "headings = soup.find(\"div\",attrs={\"class\": \"sp-ttl-wrp\"}).find(\"h1\", attrs = {\"class\":\"sp-ttl\"}).get_text()\n",
    "# printing the heading \n",
    "print(headings)"
   ]
  },
  {
   "cell_type": "code",
   "execution_count": null,
   "id": "dfb10f67-3773-4a2a-89d4-eb3246f418f3",
   "metadata": {},
   "outputs": [],
   "source": [
    "#printing the title\n",
    "para = soup.find(\"div\", attrs = {\"class\": \"sp-cn ins_storybody\"}).find_all(\"p\")\n",
    "para_var = \"\"\n",
    "for i in para:\n",
    "    para_var = para_var +i.getText()\n",
    "print(para_var)"
   ]
  },
  {
   "cell_type": "code",
   "execution_count": null,
   "id": "42576b15-d158-422b-8245-1021517676b2",
   "metadata": {},
   "outputs": [],
   "source": [
    "# Here I am loading the Gemini api key from my .env file \n",
    "genai.configure(api_key=os.getenv(\"GEMINI_API_KEY\"))"
   ]
  },
  {
   "cell_type": "code",
   "execution_count": null,
   "id": "64032e92-9ed3-4405-bd8a-d16bca41a715",
   "metadata": {},
   "outputs": [],
   "source": [
    "#  setting technical parameters  into  a variable, based on which the genai will generate my response \n",
    "generation_config = {\n",
    "  \"temperature\": 0.9,\n",
    "  \"top_p\": 0.95,\n",
    "  \"top_k\": 64,\n",
    "  \"max_output_tokens\": 8192,\n",
    "  \"response_mime_type\": \"text/plain\"\n",
    "}\n",
    "\n",
    "# feeding the generation_config and setting the model_name to be used for gen ai\n",
    "model = genai.GenerativeModel(model_name=\"gemini-1.5-pro\", generation_config=generation_config)"
   ]
  },
  {
   "cell_type": "code",
   "execution_count": null,
   "id": "e77a0b53-a79e-4286-8983-a3e312f465f5",
   "metadata": {},
   "outputs": [],
   "source": [
    "#sometimes when the text is too long , it can throw some error!\n",
    "response = model.generate_content([f\"Summarize the following paragraph for me : {para_var}\"])\n",
    "print(response.text)"
   ]
  },
  {
   "cell_type": "markdown",
   "id": "770110a1-b0af-45fe-b723-9071fae77d95",
   "metadata": {},
   "source": [
    "# Features for the future\n",
    "1. convert response.text to speech\n",
    "2. can add a video in which a reporter is reading the summary\n",
    "3. can create a video relatd to it."
   ]
  },
  {
   "cell_type": "markdown",
   "id": "6dadd853-3581-4590-a284-9820832faa75",
   "metadata": {},
   "source": [
    "# Resources  used \n",
    "1. for making an api call to gemini - https://www.youtube.com/watch?v=UKQUWeYYrxE\n",
    "2. gemini studio - https://aistudio.google.com/app/prompts/new_chat \n",
    "3."
   ]
  },
  {
   "cell_type": "code",
   "execution_count": null,
   "id": "3951a431-54a5-4940-b6ff-bde0b0c43841",
   "metadata": {},
   "outputs": [],
   "source": []
  },
  {
   "cell_type": "code",
   "execution_count": null,
   "id": "96eed40f-064a-44a3-8010-71a2acd7514a",
   "metadata": {},
   "outputs": [],
   "source": []
  },
  {
   "cell_type": "code",
   "execution_count": null,
   "id": "f214749f-9de5-4513-a56d-0728bcceeee7",
   "metadata": {},
   "outputs": [],
   "source": []
  },
  {
   "cell_type": "code",
   "execution_count": null,
   "id": "23c1c767-ef24-4b79-8f30-be56ddfe8ac4",
   "metadata": {},
   "outputs": [],
   "source": []
  },
  {
   "cell_type": "code",
   "execution_count": null,
   "id": "6c484084-2074-4b0a-baf8-48e7dea77365",
   "metadata": {},
   "outputs": [],
   "source": []
  },
  {
   "cell_type": "code",
   "execution_count": null,
   "id": "5658dbbe-5fae-4d61-9878-67f1312be37f",
   "metadata": {},
   "outputs": [],
   "source": []
  },
  {
   "cell_type": "code",
   "execution_count": null,
   "id": "903aaee1-ae40-4b6f-a739-5570c9568324",
   "metadata": {},
   "outputs": [],
   "source": []
  },
  {
   "cell_type": "code",
   "execution_count": null,
   "id": "cae2139f-428e-489f-86f2-17b0e9a0b602",
   "metadata": {},
   "outputs": [],
   "source": []
  },
  {
   "cell_type": "markdown",
   "id": "d73733f3-e9cf-4aaa-94de-550f24d05dd9",
   "metadata": {},
   "source": [
    "===========do not run below cel========================="
   ]
  },
  {
   "cell_type": "raw",
   "id": "b1b0eedb-0381-40ed-b189-6c1ea8a6649b",
   "metadata": {},
   "source": [
    "! pip install pygame"
   ]
  },
  {
   "cell_type": "raw",
   "id": "2f466512-62e6-4a50-8e66-6f975178e466",
   "metadata": {},
   "source": [
    "from openai import OpenAI\n",
    "import os\n",
    "from dotenv import load_dotenv"
   ]
  },
  {
   "cell_type": "raw",
   "id": "a7ea4c6e-d730-4a72-a4f6-020c1ea9a74d",
   "metadata": {},
   "source": [
    "#load dotenv method\n",
    "load_dotenv()"
   ]
  },
  {
   "cell_type": "raw",
   "id": "469bef5a-f330-48f3-be00-bbf25906d9d0",
   "metadata": {},
   "source": [
    "client = OpenAI()\n",
    "messages = [\n",
    "    {\"role\":\"system\", \"content\": \"You are a helpful AI assistant that can make jokes\"},\n",
    "    {\"role\": \"user\", \"content\": \"Tell me 5 things about India\"}\n",
    "]"
   ]
  },
  {
   "cell_type": "raw",
   "id": "b67a9704-f7f9-4204-a86f-a823685c885e",
   "metadata": {},
   "source": [
    "response= client.chat.completions.create(\n",
    "    model = \"gpt-3.5-turbo\",\n",
    "    messages = messages,\n",
    "    temperature=0.7\n",
    ")"
   ]
  },
  {
   "cell_type": "raw",
   "id": "883bdb9c-2c07-4a45-acfd-1d76d3d89f1a",
   "metadata": {},
   "source": [
    "response"
   ]
  }
 ],
 "metadata": {
  "kernelspec": {
   "display_name": "Python 3 (ipykernel)",
   "language": "python",
   "name": "python3"
  },
  "language_info": {
   "codemirror_mode": {
    "name": "ipython",
    "version": 3
   },
   "file_extension": ".py",
   "mimetype": "text/x-python",
   "name": "python",
   "nbconvert_exporter": "python",
   "pygments_lexer": "ipython3",
   "version": "3.12.6"
  }
 },
 "nbformat": 4,
 "nbformat_minor": 5
}
