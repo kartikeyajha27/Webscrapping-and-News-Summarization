{
 "cells": [
  {
   "cell_type": "markdown",
   "id": "d9b580cc-aa1a-4ef4-9ff3-833df50e0a19",
   "metadata": {},
   "source": [
    "# Convert NDTV news text into Summary using Gemini AI"
   ]
  },
  {
   "cell_type": "code",
   "execution_count": 19,
   "id": "3d397690-ad13-40b1-ab2a-62dcf17ccc72",
   "metadata": {
    "scrolled": true
   },
   "outputs": [
    {
     "name": "stdout",
     "output_type": "stream",
     "text": [
      "created virtual environment CPython3.12.6.final.0-64 in 1552ms\n",
      "  creator CPython3Windows(dest=C:\\Users\\91901\\Desktop\\Kartikeya\\Analytixlabs\\Code\\test_env1, clear=False, no_vcs_ignore=False, global=False)\n",
      "  seeder FromAppData(download=False, pip=bundle, via=copy, app_data_dir=C:\\Users\\91901\\AppData\\Local\\pypa\\virtualenv)\n",
      "    added seed packages: pip==24.2\n",
      "  activators BashActivator,BatchActivator,FishActivator,NushellActivator,PowerShellActivator,PythonActivator\n"
     ]
    }
   ],
   "source": [
    "# time taking\n",
    "!virtualenv test_env1"
   ]
  },
  {
   "cell_type": "code",
   "execution_count": 20,
   "id": "cbfba57c-69b7-4531-b06f-929cc3ca6aeb",
   "metadata": {
    "scrolled": true
   },
   "outputs": [],
   "source": [
    "# time taking\n",
    "!.\\test_env1\\Scripts\\activate"
   ]
  },
  {
   "cell_type": "code",
   "execution_count": 21,
   "id": "93ac2d6d-c427-4aaa-9f4d-aa316bff7d8e",
   "metadata": {},
   "outputs": [],
   "source": [
    "# importing libraries\n",
    "from bs4 import BeautifulSoup # for scrapping  information from the web\n",
    "import requests # for making the requests on web\n",
    "import os # for implementing genai\n",
    "import google.generativeai as genai #for gemini\n",
    "from dotenv import load_dotenv"
   ]
  },
  {
   "cell_type": "code",
   "execution_count": 22,
   "id": "f7568827-722c-41bf-8590-a1fdc1572d14",
   "metadata": {},
   "outputs": [
    {
     "data": {
      "text/plain": [
       "True"
      ]
     },
     "execution_count": 22,
     "metadata": {},
     "output_type": "execute_result"
    }
   ],
   "source": [
    "load_dotenv()"
   ]
  },
  {
   "cell_type": "code",
   "execution_count": 30,
   "id": "99861541-314a-43b6-9170-7c3f00dc7970",
   "metadata": {},
   "outputs": [
    {
     "name": "stdin",
     "output_type": "stream",
     "text": [
      "Enter URL :  https://www.ndtv.com/india-news/tirupati-temple-animal-fat-in-laddoos-row-explained-what-chandrababu-naidu-ysr-congress-bjp-temple-said-6607659#pfrom=home-ndtv_topscroll\n"
     ]
    }
   ],
   "source": [
    "# feeding URL\n",
    "url = input(\"Enter URL : \")\n",
    "# url = \"https://www.ndtv.com/india-news/kolkata-doctors-rape-murder-probe-to-be-transferred-to-cbi-high-court-6327984#pfrom=home-ndtv_topscroll\""
   ]
  },
  {
   "cell_type": "code",
   "execution_count": 31,
   "id": "ee5e1054-33f5-4647-99cf-c98758c7de30",
   "metadata": {},
   "outputs": [],
   "source": [
    "#scraping links from the website\n",
    "page_to_scrape = requests.get(url) #This loads the URL into page_to_scrape\n",
    "\n",
    "file =  open(\"website_in_textformat.txt\",\"w\",encoding=\"utf-8\")\n",
    "file.write(page_to_scrape.text)\n",
    "file.close()\n",
    "soup = BeautifulSoup(page_to_scrape.text,\"html.parser\")"
   ]
  },
  {
   "cell_type": "code",
   "execution_count": 32,
   "id": "8e50f106-f077-434a-b02e-0041b35f9965",
   "metadata": {},
   "outputs": [
    {
     "name": "stdout",
     "output_type": "stream",
     "text": [
      " Tirupati Laddoos Row Explained: Who Said What, Where Ghee Came From \n"
     ]
    }
   ],
   "source": [
    "# selecting the data from website to scrape\n",
    "headings = soup.find(\"div\",attrs={\"class\": \"sp-ttl-wrp\"}).find(\"h1\", attrs = {\"class\":\"sp-ttl\"}).get_text()\n",
    "# printing the heading \n",
    "print(headings)"
   ]
  },
  {
   "cell_type": "code",
   "execution_count": 33,
   "id": "dfb10f67-3773-4a2a-89d4-eb3246f418f3",
   "metadata": {},
   "outputs": [
    {
     "name": "stdout",
     "output_type": "stream",
     "text": [
      "Animal Fat in Tirupati Laddu: The holy town of Tirupati is in Andhra Pradesh (File).Laddoos, specifically those offered as 'prasadam', or devotional offerings, at the temple town of Tirupati are the battleground de jour in Andhra Pradesh, after a lab in Gujarat indicated the presence of animal fat in the ghee used to make them.Chief Minister N Chandrababu Naidu and his Telugu Desam Party have ripped into his predecessor YS Jagan Mohan Reddy and his YSR Congress Party over the \"desecration\" of the temple, a religious landmark that holds pride of place among practicing Hindus in the state and across India.The Chief Minister - who declared the temple would be \"sanitised\" - also accused his rival of corruption in negotiating tenders for buying the vast quantities of \"adulterated ghee\" needed for an estimated three lakh laddoos daily, and having insulted \"one of the most revered Gods\".READ | Health Ministry Asks For Report As Tirupati Laddoo Row EscalatesThe board of the Tirumala Tirupati Devasthanam, or TTD - the government trust that manages the Tirumala Venkateswara Temple and others in the state - has not commented on the row as yet, but has formed a four-member committee to submit a report about quality standards in preparing the food item.It is important to note that it was the TTD board itself that had asked for the lab report, citing multiple complaints from the public about the quality of the laddoos, in recent weeks and months.The laddoos are made in the temple kitchen - known as 'potu', which is located inside the 'sampangi pradakshinam', or the space between the second and third pathways.To make them, the TTD board buys 42,000 kilograms of ghee per month, and 22,500 kg of cashew nuts, 15,000 kg of raisins, and 6,000 of cardamoms, as well as gram flour, sugar, and sugar candy.According to the Karnataka Milk Federation the TTD used to purchase the ghee from them, but supply was discontinued four years ago, reportedly over pricing issues.Reports suggest they were unable to offer ghee at prices low enough for the TTD as the Karnataka government - ruled by the Congress - ordered a Rs 3 per litre increase in milk prices.An estimated three lakh laddoos are made every day at the Tirupati temple.Their contract, they have said, was renewed only after Mr Naidu's TDP returned to power.In the meantime, reports state the temple board turned to a supplier from Tamil Nadu's Dindigul, in whose ghee there was allegedly traces of the animal fat.Tirupati laddoos have a 'Geographical Indication' tag, which is a name or sign that identifies a product as originating from a specific geographical location or origin. The tag is a form of intellectual property right (IPR) that protects the product and ensures that only authorised users can use the nameA July 17 report from the Centre of Analysis and Learning in Livestock and Food, or CALF, lab at the centre-run National Dairy Development Board in Gujarat, released Wednesday, said it found animal fat in ghee used to make the famous Tirupati laddoos when the YSRCP was in power. READ | Andhra Government Cites Lab Report In Tirupati Laddoo-Animal Fat RowThe report indicated the ghee contained traces of fish oil, beef tallow, and lard; the last is a semi-solid white fat product obtained by rendering the fatty tissue of a pig.Chandrababu Naidu's son and Andhra's IT Minister, Nara Lokesh, also chipped in, accusing the YSRCP of having served substandard 'annadanam', or free food, at the temple while in power.The lord venkateswara swamy temple at Tirumala is our most sacred temple. I am shocked to learn that the @ysjagan administration used animal fat instead of ghee in the tirupati Prasadam. Shame on @ysjagan and the @ysrcparty government that couldn't respect the religious… pic.twitter.com/UDFC2WsoLPHe claimed the row over animal fat was triggered by an anti-corruption probe into irregularities in the purchase of ghee, vegetables, and other items used to make the laddoos and the food.We are all deeply disturbed with the findings of animal fat (fish oil,pork fat and beef fat )mixed in Tirupathi Balaji Prasad. Many questions to be answered by the TTD board constituted by YCP Govt then. Our Govt is committed to take stringent action possible.But,this throws… https://t.co/SA4DCPZDHyMr Naidu's state ally, actor-politician Pawan Kalyan's Jana Sena Party, has hit out at Mr Reddy and the YSRCP, demanding action against \"desecration of 'sanatan dharm' in any form\".The Bharatiya Janata Party, which is allied with the TDP and Jana Sena at the centre, is up in arms; Union Minister and National General Secretary Bandi Sanjay slammed the \"unforgivable sin\" against a \"very holy prasadam\". The BJP leader also claimed a communal angle, alleging the ghee issue was because \"few people from other religions (had been) inducted\" into the board.A BJP MP who was on the board of the TTD also raged, demanding a police complaint be filed against the former Chief Minister. \"Jagan Mohan Reddy's government (deliberately) damaged the sentiment of Hindu pilgrims...\" he declared.The head of the saffron party's OBC unit, K Laxman, has called for legal action.The YSR Congress, meanwhile, has hit back hard against the flood of allegations.Rajya Sabha MP YV Subba Reddy, who was Chairperson of the TTD for four years, said it is \"unimaginable to even say 'animal fat was used in consecrated food offered daily to the deity and in laddoos given to devotees'\". Mr Reddy blasted the Chief Minister for the \"heinous' claim.Mr Reddy also declared that it was Chandrababu Naidu, in fact, who had damaged the sanctity of the temple, and affected crores of devotees, by making such outrageous comments.రాజకీయం లబ్ధికోసం ఎంతటి నీచానికైనా చంద్రబాబు వెనుకాడడని మరోమారు నిరూపితం అయ్యింది. భక్తుల విశ్వాసాన్ని బలపరిచేందుకు తిరుమల ప్రసాదం విషయంలో నేను, నా కుటుంబం ఆ దేవ దేవుని సాక్షిగా ప్రమాణానికి సిద్ధంగా ఉన్నాం. చంద్రబాబుకూడా తన కుటుంబంతో ప్రమాణానికి సిద్ధమా?2/2Mr Reddy wrote in Telugu on X, \"It has been proved once again that Chandrababu will not hesitate to do anything bad for the benefit of politics\". The YSRCP leader also declared himself ready \"to take an oath as witnesses... in (this) case\" and asked, \"Is he also ready to take oath?\"Another senior party leader, Karunakar Reddy, who served two terms as TTD Chairperson, said the TDP government's claims amounted to political vendetta against Jagan Mohan Reddy.The Congress - thumped in the Assembly election held earlier this year, after failing to win any of the 159 seats it contested - has been relatively quiet so far. The party's state unit boss, YS Sharmila, has called for the Central Bureau of Investigation to establish the allegation.\"If there are no political angles to your allegations... if you have no intention of playing politics on this issue... form a high-level committee or call for a CBI inquiry. The Congress demands you find out the truth,\" she said on X.Ms Sharmila is Jagan Mohan Reddy's sister, but there is little love lost between the siblings; in January, while taking her oath of office, she criticised her brother (and the TDP), declaring no development had taken place in Andhra Pradesh over their combined 10 years in power.The Tirupati temple is devoted to Lord Venkateswara, a manifestation of Lord Vishnu who, it is believed, came to earth to deliver humanity from the trials and tribulations of the Kali Yuga.PromotedListen to the latest songs, only on JioSaavn.comWith input from agenciesNDTV is now available on WhatsApp channels. Click on the link to get all the latest updates from NDTV on your chat. \n"
     ]
    }
   ],
   "source": [
    "#printing the title\n",
    "para = soup.find(\"div\", attrs = {\"class\": \"sp-cn ins_storybody\"}).find_all(\"p\")\n",
    "para_var = \"\"\n",
    "for i in para:\n",
    "    para_var = para_var +i.getText()\n",
    "print(para_var)"
   ]
  },
  {
   "cell_type": "code",
   "execution_count": 34,
   "id": "42576b15-d158-422b-8245-1021517676b2",
   "metadata": {},
   "outputs": [],
   "source": [
    "# Here I am loading the Gemini api key from my .env file \n",
    "genai.configure(api_key=os.getenv(\"GEMINI_API_KEY\"))"
   ]
  },
  {
   "cell_type": "code",
   "execution_count": 35,
   "id": "64032e92-9ed3-4405-bd8a-d16bca41a715",
   "metadata": {},
   "outputs": [],
   "source": [
    "#  setting technical parameters  into  a variable, based on which the genai will generate my response \n",
    "generation_config = {\n",
    "  \"temperature\": 0.9,\n",
    "  \"top_p\": 0.95,\n",
    "  \"top_k\": 64,\n",
    "  \"max_output_tokens\": 8192,\n",
    "  \"response_mime_type\": \"text/plain\"\n",
    "}\n",
    "\n",
    "# feeding the generation_config and setting the model_name to be used for gen ai\n",
    "model = genai.GenerativeModel(model_name=\"gemini-1.5-pro\", generation_config=generation_config)"
   ]
  },
  {
   "cell_type": "code",
   "execution_count": 36,
   "id": "e77a0b53-a79e-4286-8983-a3e312f465f5",
   "metadata": {},
   "outputs": [
    {
     "name": "stdout",
     "output_type": "stream",
     "text": [
      "A political storm has erupted in Andhra Pradesh over allegations of animal fat being found in the ghee used to make the iconic Tirupati laddoos during the previous YSRCP government's tenure. \n",
      "\n",
      "The ruling TDP, led by CM Chandrababu Naidu, has accused the YSRCP of desecrating the temple and insulting Hindu sentiments by using adulterated ghee. They claim this discovery stems from an anti-corruption probe into the temple's procurement practices. \n",
      "\n",
      "The YSRCP, under former CM YS Jagan Mohan Reddy, has vehemently denied the allegations, calling them politically motivated and offering to swear an oath to prove their innocence. They accuse the TDP of damaging the temple's sanctity by making such claims. \n",
      "\n",
      "The controversy has drawn in other political parties like the Jana Sena Party and the BJP, who have condemned the alleged desecration and demanded action. The Congress, meanwhile, has called for a CBI inquiry to ascertain the truth. \n",
      "\n",
      "The Tirumala Tirupati Devasthanam (TTD), the temple's governing body, has formed a committee to investigate the quality standards of the laddoos after complaints from the public. They had initially requested the lab report that sparked the controversy. \n",
      "\n"
     ]
    }
   ],
   "source": [
    "#sometimes when the text is too long , it can throw some error!\n",
    "response = model.generate_content([f\"Summarize the following paragraph for me : {para_var}\"])\n",
    "print(response.text)"
   ]
  },
  {
   "cell_type": "markdown",
   "id": "770110a1-b0af-45fe-b723-9071fae77d95",
   "metadata": {},
   "source": [
    "# Features for the future\n",
    "1. convert response.text to speech\n",
    "2. can add a video in which a reporter is reading the summary\n",
    "3. can create a video relatd to it."
   ]
  },
  {
   "cell_type": "markdown",
   "id": "6dadd853-3581-4590-a284-9820832faa75",
   "metadata": {},
   "source": [
    "# Resources  used \n",
    "1. for making an api call to gemini - https://www.youtube.com/watch?v=UKQUWeYYrxE\n",
    "2. gemini studio - https://aistudio.google.com/app/prompts/new_chat \n",
    "3."
   ]
  },
  {
   "cell_type": "code",
   "execution_count": null,
   "id": "3951a431-54a5-4940-b6ff-bde0b0c43841",
   "metadata": {},
   "outputs": [],
   "source": []
  },
  {
   "cell_type": "code",
   "execution_count": null,
   "id": "96eed40f-064a-44a3-8010-71a2acd7514a",
   "metadata": {},
   "outputs": [],
   "source": []
  },
  {
   "cell_type": "code",
   "execution_count": null,
   "id": "f214749f-9de5-4513-a56d-0728bcceeee7",
   "metadata": {},
   "outputs": [],
   "source": []
  },
  {
   "cell_type": "code",
   "execution_count": null,
   "id": "23c1c767-ef24-4b79-8f30-be56ddfe8ac4",
   "metadata": {},
   "outputs": [],
   "source": []
  },
  {
   "cell_type": "code",
   "execution_count": null,
   "id": "6c484084-2074-4b0a-baf8-48e7dea77365",
   "metadata": {},
   "outputs": [],
   "source": []
  },
  {
   "cell_type": "code",
   "execution_count": null,
   "id": "5658dbbe-5fae-4d61-9878-67f1312be37f",
   "metadata": {},
   "outputs": [],
   "source": []
  },
  {
   "cell_type": "code",
   "execution_count": null,
   "id": "903aaee1-ae40-4b6f-a739-5570c9568324",
   "metadata": {},
   "outputs": [],
   "source": []
  },
  {
   "cell_type": "code",
   "execution_count": null,
   "id": "cae2139f-428e-489f-86f2-17b0e9a0b602",
   "metadata": {},
   "outputs": [],
   "source": []
  },
  {
   "cell_type": "markdown",
   "id": "d73733f3-e9cf-4aaa-94de-550f24d05dd9",
   "metadata": {},
   "source": [
    "===========do not run below cel========================="
   ]
  },
  {
   "cell_type": "raw",
   "id": "b1b0eedb-0381-40ed-b189-6c1ea8a6649b",
   "metadata": {},
   "source": [
    "! pip install pygame"
   ]
  },
  {
   "cell_type": "raw",
   "id": "2f466512-62e6-4a50-8e66-6f975178e466",
   "metadata": {},
   "source": [
    "from openai import OpenAI\n",
    "import os\n",
    "from dotenv import load_dotenv"
   ]
  },
  {
   "cell_type": "raw",
   "id": "a7ea4c6e-d730-4a72-a4f6-020c1ea9a74d",
   "metadata": {},
   "source": [
    "#load dotenv method\n",
    "load_dotenv()"
   ]
  },
  {
   "cell_type": "raw",
   "id": "469bef5a-f330-48f3-be00-bbf25906d9d0",
   "metadata": {},
   "source": [
    "client = OpenAI()\n",
    "messages = [\n",
    "    {\"role\":\"system\", \"content\": \"You are a helpful AI assistant that can make jokes\"},\n",
    "    {\"role\": \"user\", \"content\": \"Tell me 5 things about India\"}\n",
    "]"
   ]
  },
  {
   "cell_type": "raw",
   "id": "b67a9704-f7f9-4204-a86f-a823685c885e",
   "metadata": {},
   "source": [
    "response= client.chat.completions.create(\n",
    "    model = \"gpt-3.5-turbo\",\n",
    "    messages = messages,\n",
    "    temperature=0.7\n",
    ")"
   ]
  },
  {
   "cell_type": "raw",
   "id": "883bdb9c-2c07-4a45-acfd-1d76d3d89f1a",
   "metadata": {},
   "source": [
    "response"
   ]
  }
 ],
 "metadata": {
  "kernelspec": {
   "display_name": "Python 3 (ipykernel)",
   "language": "python",
   "name": "python3"
  },
  "language_info": {
   "codemirror_mode": {
    "name": "ipython",
    "version": 3
   },
   "file_extension": ".py",
   "mimetype": "text/x-python",
   "name": "python",
   "nbconvert_exporter": "python",
   "pygments_lexer": "ipython3",
   "version": "3.12.6"
  }
 },
 "nbformat": 4,
 "nbformat_minor": 5
}
