{
 "cells": [
  {
   "cell_type": "code",
   "execution_count": 2,
   "id": "a6807f62-a7ff-4e80-918a-bee06661dd36",
   "metadata": {},
   "outputs": [
    {
     "name": "stdout",
     "output_type": "stream",
     "text": [
      "created virtual environment CPython3.12.6.final.0-64 in 683ms\n",
      "  creator CPython3Windows(dest=C:\\Users\\91901\\Desktop\\Kartikeya\\Analytixlabs\\Code\\test_env1, clear=False, no_vcs_ignore=False, global=False)\n",
      "  seeder FromAppData(download=False, pip=bundle, via=copy, app_data_dir=C:\\Users\\91901\\AppData\\Local\\pypa\\virtualenv)\n",
      "    added seed packages: pip==24.2\n",
      "  activators BashActivator,BatchActivator,FishActivator,NushellActivator,PowerShellActivator,PythonActivator\n",
      "Running on local URL:  http://127.0.0.1:7895\n",
      "Running on public URL: https://36976c9ee234d2dbe1.gradio.live\n",
      "\n",
      "This share link expires in 72 hours. For free permanent hosting and GPU upgrades, run `gradio deploy` from Terminal to deploy to Spaces (https://huggingface.co/spaces)\n"
     ]
    },
    {
     "data": {
      "text/html": [
       "<div><iframe src=\"https://36976c9ee234d2dbe1.gradio.live\" width=\"100%\" height=\"500\" allow=\"autoplay; camera; microphone; clipboard-read; clipboard-write;\" frameborder=\"0\" allowfullscreen></iframe></div>"
      ],
      "text/plain": [
       "<IPython.core.display.HTML object>"
      ]
     },
     "metadata": {},
     "output_type": "display_data"
    },
    {
     "data": {
      "text/plain": []
     },
     "execution_count": 2,
     "metadata": {},
     "output_type": "execute_result"
    }
   ],
   "source": [
    "!virtualenv test_env1\n",
    "!.\\test_env1\\Scripts\\activate\n",
    "from bs4 import BeautifulSoup # for scrapping  information from the web\n",
    "import requests # for making the requests on web\n",
    "import os # for implementing genai\n",
    "import google.generativeai as genai #for gemini\n",
    "import gradio as gr #for gradio\n",
    "from dotenv import load_dotenv\n",
    "load_dotenv()\n",
    "def webscrapping(url):\n",
    "    #url = input(\"Enter URL : \")\n",
    "    #scraping links from the website\n",
    "    page_to_scrape = requests.get(url) #This loads the URL into page_to_scrape\n",
    "\n",
    "    file =  open(\"website_in_textformat.txt\",\"w\",encoding=\"utf-8\")\n",
    "    file.write(page_to_scrape.text)\n",
    "    file.close()\n",
    "    soup = BeautifulSoup(page_to_scrape.text,\"html.parser\")\n",
    "    # selecting the data from website to scrape\n",
    "    headings = soup.find(\"div\",attrs={\"class\": \"sp-ttl-wrp\"}).find(\"h1\", attrs = {\"class\":\"sp-ttl\"}).get_text()\n",
    "    # printing the heading \n",
    "    #print(\"Heading : \",headings)\n",
    "    #printing the title\n",
    "    para = soup.find(\"div\", attrs = {\"class\": \"sp-cn ins_storybody\"}).find_all(\"p\")\n",
    "    para_var = \"\"\n",
    "    for i in para:\n",
    "        para_var = para_var +i.getText()\n",
    "    #print(para_var)\n",
    "    genai.configure(api_key=os.getenv(\"GEMINI_API_KEY\"))\n",
    "    #  setting technical parameters  into  a variable, based on which the genai will generate my response \n",
    "    generation_config = {\n",
    "      \"temperature\": 0.9,\n",
    "      \"top_p\": 0.95,\n",
    "      \"top_k\": 64,\n",
    "      \"max_output_tokens\": 8192,\n",
    "      \"response_mime_type\": \"text/plain\"\n",
    "    }\n",
    "\n",
    "    # feeding the generation_config and setting the model_name to be used for gen ai\n",
    "    model = genai.GenerativeModel(model_name=\"gemini-1.5-pro\", generation_config=generation_config)\n",
    "    #sometimes when the text is too long , it can throw some error!\n",
    "    response = model.generate_content([f\"Summarize the following paragraph for me : {para_var}\"])\n",
    "    #print(response.text)\n",
    "    return response.text\n",
    "\n",
    "\n",
    "\n",
    "interface_web = gr.Interface(fn=webscrapping, inputs=gr.Textbox(label='Enter the NDTV url'), outputs='text')\n",
    "interface_web.launch(share='True')"
   ]
  }
 ],
 "metadata": {
  "kernelspec": {
   "display_name": "Python 3 (ipykernel)",
   "language": "python",
   "name": "python3"
  },
  "language_info": {
   "codemirror_mode": {
    "name": "ipython",
    "version": 3
   },
   "file_extension": ".py",
   "mimetype": "text/x-python",
   "name": "python",
   "nbconvert_exporter": "python",
   "pygments_lexer": "ipython3",
   "version": "3.12.6"
  }
 },
 "nbformat": 4,
 "nbformat_minor": 5
}
